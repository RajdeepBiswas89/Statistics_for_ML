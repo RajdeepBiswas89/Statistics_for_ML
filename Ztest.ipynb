{
 "cells": [
  {
   "cell_type": "code",
   "execution_count": 1,
   "id": "1f2e9902-ddc5-43da-8587-e0d3b6e667ef",
   "metadata": {},
   "outputs": [],
   "source": [
    "import numpy as np \n",
    "from scipy.stats import norm"
   ]
  },
  {
   "cell_type": "code",
   "execution_count": 3,
   "id": "2b0318ed-180d-4e4a-b731-2129762c424d",
   "metadata": {},
   "outputs": [],
   "source": [
    "sample=[172,174,168,169,171,173,175,170,169,172]\n",
    "population_mean=170\n",
    "population_std=3 \n",
    "#must given data to perform ztest"
   ]
  },
  {
   "cell_type": "code",
   "execution_count": 4,
   "id": "2a018dca-3e5b-4c18-b3b2-5a2f66118378",
   "metadata": {},
   "outputs": [
    {
     "data": {
      "text/plain": [
       "10"
      ]
     },
     "execution_count": 4,
     "metadata": {},
     "output_type": "execute_result"
    }
   ],
   "source": [
    "sample_mean=np.mean(sample)\n",
    "sample_count= len(sample)\n",
    "sample_count"
   ]
  },
  {
   "cell_type": "code",
   "execution_count": 5,
   "id": "4dfb7864-594e-44df-be51-f0cb9eec33eb",
   "metadata": {},
   "outputs": [
    {
     "data": {
      "text/plain": [
       "np.float64(171.3)"
      ]
     },
     "execution_count": 5,
     "metadata": {},
     "output_type": "execute_result"
    }
   ],
   "source": [
    "sample_mean"
   ]
  },
  {
   "cell_type": "markdown",
   "id": "07d608ac-db76-4b1c-8cc3-d249e79b4fb7",
   "metadata": {},
   "source": [
    "performing Ztest "
   ]
  },
  {
   "cell_type": "code",
   "execution_count": 6,
   "id": "c5ebb177-c230-44bd-8d80-9a1549b5bdbb",
   "metadata": {},
   "outputs": [
    {
     "data": {
      "text/plain": [
       "np.float64(1.3703203194063098)"
      ]
     },
     "execution_count": 6,
     "metadata": {},
     "output_type": "execute_result"
    }
   ],
   "source": [
    "z_score=(sample_mean-population_mean)/(population_std/np.sqrt(sample_count))\n",
    "z_score"
   ]
  },
  {
   "cell_type": "code",
   "execution_count": 8,
   "id": "91db7c43-b269-4ff4-a3da-eabb75ec533c",
   "metadata": {},
   "outputs": [
    {
     "data": {
      "text/plain": [
       "np.float64(0.17058693287143756)"
      ]
     },
     "execution_count": 8,
     "metadata": {},
     "output_type": "execute_result"
    }
   ],
   "source": [
    "p_value=2*(1-norm.cdf(abs(z_score)))\n",
    "p_value"
   ]
  },
  {
   "cell_type": "code",
   "execution_count": 9,
   "id": "d82b947d-b135-4422-82c0-772ca2fa078e",
   "metadata": {},
   "outputs": [],
   "source": [
    "alpha=0.05"
   ]
  },
  {
   "cell_type": "code",
   "execution_count": 10,
   "id": "b317e319-f124-4309-8cdd-d46f3688697f",
   "metadata": {},
   "outputs": [
    {
     "name": "stdout",
     "output_type": "stream",
     "text": [
      "i will accept the null hypothesis\n"
     ]
    }
   ],
   "source": [
    "if p_value<alpha:\n",
    "    print(\"i will reject the null hypothesis\")\n",
    "else:\n",
    "    print(\"i will accept the null hypothesis\")"
   ]
  }
 ],
 "metadata": {
  "kernelspec": {
   "display_name": "scikitlearn",
   "language": "python",
   "name": "scikitlearn"
  },
  "language_info": {
   "codemirror_mode": {
    "name": "ipython",
    "version": 3
   },
   "file_extension": ".py",
   "mimetype": "text/x-python",
   "name": "python",
   "nbconvert_exporter": "python",
   "pygments_lexer": "ipython3",
   "version": "3.13.0"
  }
 },
 "nbformat": 4,
 "nbformat_minor": 5
}
